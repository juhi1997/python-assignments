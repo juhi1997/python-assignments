{
  "nbformat": 4,
  "nbformat_minor": 0,
  "metadata": {
    "colab": {
      "name": "a1.ipynb",
      "provenance": []
    },
    "kernelspec": {
      "name": "python3",
      "display_name": "Python 3"
    }
  },
  "cells": [
    {
      "cell_type": "markdown",
      "metadata": {
        "id": "ZlsMJbnEHUru"
      },
      "source": [
        "\n",
        "1. Write a program which will find all such numbers which are divisible by 7 but are not a multiple of 5, between 2000 and 3200 (both included). The numbers obtained should be printed in a comma-separated sequence on a single line."
      ]
    },
    {
      "cell_type": "code",
      "metadata": {
        "id": "tH61PXK-PLpm"
      },
      "source": [
        "# make a list having numbers between 2000 and 3200\n",
        "import random\n",
        "my_list=[]\n",
        "for i in range(2000,3200):\n",
        "  my_list.append(i)\n",
        "\n"
      ],
      "execution_count": null,
      "outputs": []
    },
    {
      "cell_type": "code",
      "metadata": {
        "id": "NcEvMZdlUWiQ"
      },
      "source": [
        "res=[]"
      ],
      "execution_count": null,
      "outputs": []
    },
    {
      "cell_type": "code",
      "metadata": {
        "id": "X85dPwtHSoUk"
      },
      "source": [
        "for num in my_list:\n",
        "  if num%7==0:\n",
        "    if num%5!=0:\n",
        "      res.append(num)\n",
        "\n"
      ],
      "execution_count": null,
      "outputs": []
    },
    {
      "cell_type": "code",
      "metadata": {
        "id": "WgrNM7JrUQE1",
        "outputId": "093425c6-875b-456e-8ed0-a9353047e54b",
        "colab": {
          "base_uri": "https://localhost:8080/",
          "height": 53
        }
      },
      "source": [
        "print(res)"
      ],
      "execution_count": null,
      "outputs": [
        {
          "output_type": "stream",
          "text": [
            "[2002, 2009, 2016, 2023, 2037, 2044, 2051, 2058, 2072, 2079, 2086, 2093, 2107, 2114, 2121, 2128, 2142, 2149, 2156, 2163, 2177, 2184, 2191, 2198, 2212, 2219, 2226, 2233, 2247, 2254, 2261, 2268, 2282, 2289, 2296, 2303, 2317, 2324, 2331, 2338, 2352, 2359, 2366, 2373, 2387, 2394, 2401, 2408, 2422, 2429, 2436, 2443, 2457, 2464, 2471, 2478, 2492, 2499, 2506, 2513, 2527, 2534, 2541, 2548, 2562, 2569, 2576, 2583, 2597, 2604, 2611, 2618, 2632, 2639, 2646, 2653, 2667, 2674, 2681, 2688, 2702, 2709, 2716, 2723, 2737, 2744, 2751, 2758, 2772, 2779, 2786, 2793, 2807, 2814, 2821, 2828, 2842, 2849, 2856, 2863, 2877, 2884, 2891, 2898, 2912, 2919, 2926, 2933, 2947, 2954, 2961, 2968, 2982, 2989, 2996, 3003, 3017, 3024, 3031, 3038, 3052, 3059, 3066, 3073, 3087, 3094, 3101, 3108, 3122, 3129, 3136, 3143, 3157, 3164, 3171, 3178, 3192, 3199]\n"
          ],
          "name": "stdout"
        }
      ]
    },
    {
      "cell_type": "markdown",
      "metadata": {
        "id": "ljta2JrtDkBf"
      },
      "source": [
        "2. Write a Python program to accept the user's first and last name and then getting them printed in the the reverse order with a space between first name and last name."
      ]
    },
    {
      "cell_type": "code",
      "metadata": {
        "id": "6SP7IVyGUglM",
        "outputId": "6ff6764e-4926-45ea-fb28-abce46fd5a30",
        "colab": {
          "base_uri": "https://localhost:8080/",
          "height": 67
        }
      },
      "source": [
        "First_Name=input(\"Enter Your First Name\")\n",
        "Last_Name=input(\"Enter Your Last Name\")\n",
        "print(f\"{First_Name[::-1]} {Last_Name[::-1]}\")"
      ],
      "execution_count": null,
      "outputs": [
        {
          "output_type": "stream",
          "text": [
            "Enter Your First Namejuhi\n",
            "Enter Your Last Nametaksande\n",
            "ihuj ednaskat\n"
          ],
          "name": "stdout"
        }
      ]
    },
    {
      "cell_type": "markdown",
      "metadata": {
        "id": "N0cetv8BEWCy"
      },
      "source": [
        "3. Write a Python program to find the volume of a sphere with diameter 12 cm.    Formula: V=4/3 * π * r3\n"
      ]
    },
    {
      "cell_type": "code",
      "metadata": {
        "id": "3vjrJGSeEOKS",
        "outputId": "564072c6-8897-4a27-947c-406681d5c16e",
        "colab": {
          "base_uri": "https://localhost:8080/",
          "height": 33
        }
      },
      "source": [
        "d=12\n",
        "r=d/2\n",
        "Volume_of_sphere=4/3*3.14*r**3\n",
        "print(f\"Volumne of sphere : {Volume_of_sphere}\")"
      ],
      "execution_count": null,
      "outputs": [
        {
          "output_type": "stream",
          "text": [
            "Volumne of sphere : 904.3199999999999\n"
          ],
          "name": "stdout"
        }
      ]
    },
    {
      "cell_type": "markdown",
      "metadata": {
        "id": "UlOWh8zwGVKF"
      },
      "source": [
        "Write a program which accepts a sequence of comma-separated numbers from console and\n",
        "generate a list."
      ]
    },
    {
      "cell_type": "code",
      "metadata": {
        "id": "cBlU6Kr3Gn8p",
        "outputId": "3ec4c2d8-214f-487d-8a45-c1535e1ad03f",
        "colab": {
          "base_uri": "https://localhost:8080/",
          "height": 50
        }
      },
      "source": [
        "my_values=input(\"Enter values\")\n",
        "my_list=my_values.split(',')\n",
        "new_list=list(my_list)\n",
        "print(new_list)\n",
        "\n",
        "\n",
        "\n",
        "\n"
      ],
      "execution_count": 42,
      "outputs": [
        {
          "output_type": "stream",
          "text": [
            "Enter values1,2,3\n",
            "['1', '2', '3']\n"
          ],
          "name": "stdout"
        }
      ]
    },
    {
      "cell_type": "markdown",
      "metadata": {
        "id": "SLIksU5dILVk"
      },
      "source": [
        "Create the below pattern using nested for loop in Python.\n",
        "\n",
        "*\n",
        "* *\n",
        "* * *\n",
        "* * * *\n",
        "* * * * *\n",
        "* * * *\n",
        "* * *\n",
        "* *\n",
        "*"
      ]
    },
    {
      "cell_type": "code",
      "metadata": {
        "id": "SS1MX0BMIZvL",
        "outputId": "b5adb19c-0e9f-4e4e-e844-f4ece3cfbeb5",
        "colab": {
          "base_uri": "https://localhost:8080/",
          "height": 184
        }
      },
      "source": [
        "for i in range(0,5):\n",
        "  for j in range(0,i+1):\n",
        "    print(\"*\",end=\"\")\n",
        "  print(\"\\r\")\n",
        "for i in range(5,0,-1):\n",
        "  for j in range(0,i-1):\n",
        "    print(\"*\",end=\"\")\n",
        "  print(\"\\r\")\n",
        "\n",
        "\n",
        "\n",
        "\n"
      ],
      "execution_count": 23,
      "outputs": [
        {
          "output_type": "stream",
          "text": [
            "*\r\n",
            "**\r\n",
            "***\r\n",
            "****\r\n",
            "*****\r\n",
            "****\r\n",
            "***\r\n",
            "**\r\n",
            "*\r\n",
            "\r\n"
          ],
          "name": "stdout"
        }
      ]
    },
    {
      "cell_type": "markdown",
      "metadata": {
        "id": "wWQf_NkHP8su"
      },
      "source": [
        "Write a Python program to reverse a word after accepting the input from the user.\n",
        "Sample Output:\n",
        "Input word: Ineuron\n",
        "Output: noruenI"
      ]
    },
    {
      "cell_type": "code",
      "metadata": {
        "id": "bRkgamssJuR5",
        "outputId": "90f3997c-e31d-4a7b-c626-9e46feb814b2",
        "colab": {
          "base_uri": "https://localhost:8080/",
          "height": 50
        }
      },
      "source": [
        "original_word=input(\"Enter a word\")\n",
        "print(f\"Revered Word : {original_word[::-1]}\")\n"
      ],
      "execution_count": 27,
      "outputs": [
        {
          "output_type": "stream",
          "text": [
            "Enter a wordIneuron\n",
            "Revered Word : noruenI\n"
          ],
          "name": "stdout"
        }
      ]
    },
    {
      "cell_type": "markdown",
      "metadata": {
        "id": "f2iktTBxRveV"
      },
      "source": [
        "Write a Python Program to print the given string in the format specified in the sample output.\n",
        "WE, THE PEOPLE OF INDIA, having solemnly resolved to constitute India into a\n",
        "SOVEREIGN, SOCIALIST, SECULAR, DEMOCRATIC REPUBLIC and to secure to all\n",
        "its citizens\n",
        "Sample Output:\n",
        "WE, THE PEOPLE OF INDIA,\n",
        "having solemnly resolved to constitute India into a SOVEREIGN, !\n",
        "SOCIALIST, SECULAR, DEMOCRATIC REPUBLIC\n",
        "and to secure to all its citizens"
      ]
    },
    {
      "cell_type": "code",
      "metadata": {
        "id": "RFUNR3A0RR4G",
        "outputId": "6bd6fcd4-fd12-476f-9c30-8a809f3b58ed",
        "colab": {
          "base_uri": "https://localhost:8080/",
          "height": 100
        }
      },
      "source": [
        "str=\"\"\" WE, THE PEOPLE OF INDIA,\n",
        "              having solemnly resolved to constitute India into a SOVEREIGN, !\n",
        "                 SOCIALIST, SECULAR, DEMOCRATIC REPUBLIC\n",
        "                   and to secure to all its citizens\n",
        "\"\"\"\n",
        "print(str)"
      ],
      "execution_count": 28,
      "outputs": [
        {
          "output_type": "stream",
          "text": [
            " WE, THE PEOPLE OF INDIA,\n",
            "              having solemnly resolved to constitute India into a SOVEREIGN, !\n",
            "                 SOCIALIST, SECULAR, DEMOCRATIC REPUBLIC\n",
            "                   and to secure to all its citizens\n",
            "\n"
          ],
          "name": "stdout"
        }
      ]
    },
    {
      "cell_type": "code",
      "metadata": {
        "id": "yM-t0EaZSsjY"
      },
      "source": [
        ""
      ],
      "execution_count": null,
      "outputs": []
    }
  ]
}